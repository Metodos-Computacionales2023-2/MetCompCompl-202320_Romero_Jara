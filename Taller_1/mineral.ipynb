{
 "cells": [
  {
   "cell_type": "code",
   "execution_count": 16,
   "metadata": {},
   "outputs": [],
   "source": [
    "import matplotlib.pyplot as plt"
   ]
  },
  {
   "cell_type": "code",
   "execution_count": 17,
   "metadata": {},
   "outputs": [],
   "source": [
    "class Mineral:\n",
    "    def __init__(self, nombre, dureza, lustre, rompimiento_por_fractura, color, composicion, sistema_cristalino, specific_gravity):\n",
    "        self.nombre = nombre\n",
    "        self.dureza = dureza\n",
    "        self.lustre = lustre\n",
    "        self.rompimiento_por_fractura = rompimiento_por_fractura\n",
    "        self.color = color\n",
    "        self.composicion = composicion\n",
    "        self.sistema_cristalino = sistema_cristalino\n",
    "        self.specific_gravity = specific_gravity\n",
    "\n",
    "    def es_silicato(self):\n",
    "        if 'Si' in self.composicion and 'O' in self.composicion:\n",
    "            return True\n",
    "        else:\n",
    "            return False\n",
    "        \n",
    "    def calcular_densidad(self):\n",
    "        return self.specific_gravity*1000\n",
    "    \n",
    "    #formula gravedad especifica = densidad / densidad agua (1000)\n",
    "    \n",
    "    def mostrar_color(self): \n",
    "        fig, ax = plt.subplots()\n",
    "        cuadrado = plt.Rectangle((0, 0), 1, 1, color=self.color)\n",
    "        ax.add_patch(cuadrado)\n",
    "        ax.set_xlim(0, 1)\n",
    "        ax.set_ylim(0, 1)\n",
    "        plt.axis('off') \n",
    "        plt.show()\n",
    "\n",
    "    def imprimir_du_rom_org(self):\n",
    "        print('El mineral ' + str(self.nombre) + ' tiene una dureza de ' + str(self.dureza) + ' de acuerdo a la escala de Mohs.')\n",
    "        if self.rompimiento_por_fractura == True:\n",
    "            print('El material ' + str(self.nombre) + ' se rompe por fractura.')\n",
    "        else:\n",
    "             print('El material ' + str(self.nombre) + ' se rompe por escisión.')\n",
    "        print('El sistema de organización de los átomos en el material ' + str(self.nombre) + ' es ' + str(self.sistema_cristalino) + '.')"
   ]
  }
 ],
 "metadata": {
  "kernelspec": {
   "display_name": "Python 3",
   "language": "python",
   "name": "python3"
  },
  "language_info": {
   "codemirror_mode": {
    "name": "ipython",
    "version": 3
   },
   "file_extension": ".py",
   "mimetype": "text/x-python",
   "name": "python",
   "nbconvert_exporter": "python",
   "pygments_lexer": "ipython3",
   "version": "3.11.5"
  },
  "orig_nbformat": 4
 },
 "nbformat": 4,
 "nbformat_minor": 2
}
