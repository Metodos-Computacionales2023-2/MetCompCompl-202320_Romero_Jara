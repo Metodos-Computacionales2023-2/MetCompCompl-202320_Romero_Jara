{
 "cells": [
  {
   "cell_type": "code",
   "execution_count": 22,
   "metadata": {},
   "outputs": [],
   "source": [
    "from mineral import Mineral\n",
    "import numpy as np"
   ]
  },
  {
   "cell_type": "code",
   "execution_count": 23,
   "metadata": {},
   "outputs": [],
   "source": [
    "def crear_minerales(archivo:str):\n",
    "    arreglo = []\n",
    "    with open(archivo, 'r', encoding='utf-8') as datos:\n",
    "        linea = datos.readline()\n",
    "        linea = datos.readline()\n",
    "        while len(linea) > 0:\n",
    "            info = linea.strip().split('\\t')\n",
    "            clase = Mineral(info[0], info[1], info[2], info[3], info[4], info[5], info[6], info[7])\n",
    "            arreglo.append(clase)\n",
    "            linea = datos.readline()\n",
    "\n",
    "    \n",
    "    return np.array(arreglo)\n",
    "            "
   ]
  },
  {
   "cell_type": "code",
   "execution_count": 24,
   "metadata": {},
   "outputs": [],
   "source": [
    "x = crear_minerales('minerales.txt')"
   ]
  },
  {
   "cell_type": "code",
   "execution_count": 25,
   "metadata": {},
   "outputs": [],
   "source": [
    "def cuantos_silicatos(x):\n",
    "    contador = 0\n",
    "    for i in range(len(x)):\n",
    "        if (x[i].es_silicato()) == True:\n",
    "            contador += 1\n",
    "    return contador"
   ]
  },
  {
   "cell_type": "code",
   "execution_count": 26,
   "metadata": {},
   "outputs": [
    {
     "data": {
      "text/plain": [
       "6"
      ]
     },
     "execution_count": 26,
     "metadata": {},
     "output_type": "execute_result"
    }
   ],
   "source": [
    "y = cuantos_silicatos(x)\n",
    "y"
   ]
  },
  {
   "cell_type": "code",
   "execution_count": 27,
   "metadata": {},
   "outputs": [],
   "source": [
    "def calcular_densidad_prom(x):\n",
    "    suma = 0\n",
    "    for i in range(len(x)):\n",
    "        suma += x[i].calcular_densidad()\n",
    "    return round(suma/len(x),2)"
   ]
  },
  {
   "cell_type": "code",
   "execution_count": 28,
   "metadata": {},
   "outputs": [
    {
     "data": {
      "text/plain": [
       "3502.94"
      ]
     },
     "execution_count": 28,
     "metadata": {},
     "output_type": "execute_result"
    }
   ],
   "source": [
    "z = calcular_densidad_prom(x)\n",
    "z"
   ]
  }
 ],
 "metadata": {
  "kernelspec": {
   "display_name": "Python 3",
   "language": "python",
   "name": "python3"
  },
  "language_info": {
   "codemirror_mode": {
    "name": "ipython",
    "version": 3
   },
   "file_extension": ".py",
   "mimetype": "text/x-python",
   "name": "python",
   "nbconvert_exporter": "python",
   "pygments_lexer": "ipython3",
   "version": "3.11.5"
  },
  "orig_nbformat": 4
 },
 "nbformat": 4,
 "nbformat_minor": 2
}
