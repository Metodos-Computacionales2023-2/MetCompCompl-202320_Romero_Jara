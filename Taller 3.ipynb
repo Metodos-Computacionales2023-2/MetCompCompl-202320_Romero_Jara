{
 "cells": [
  {
   "cell_type": "markdown",
   "metadata": {},
   "source": [
    "Taller 3-Repaso Matrices\n",
    "Thomas Jara-202122760\n",
    "Alejandra Gomez-"
   ]
  },
  {
   "cell_type": "code",
   "execution_count": 85,
   "metadata": {},
   "outputs": [],
   "source": [
    "import numpy as np\n"
   ]
  },
  {
   "cell_type": "markdown",
   "metadata": {},
   "source": [
    "PUNTO 1\n",
    "Algoritmo multiplicacion matrices"
   ]
  },
  {
   "cell_type": "code",
   "execution_count": 86,
   "metadata": {},
   "outputs": [],
   "source": [
    "def multiplicacionm(M1,M2):\n",
    "    resultado=np.zeros((M1.shape[0],M2.shape[1]))\n",
    "    if M1.shape[1]==M2.shape[0]:\n",
    "        for fila in range(M1.shape[0]):\n",
    "            for columna in range(M1.shape[1]):\n",
    "                 for columnaM2 in range(M2.shape[1]):\n",
    "                    resultado[fila][columnaM2]+=M1[fila][columna]*M2[columna][columnaM2]\n",
    "            \n",
    "        return resultado\n",
    "    else:\n",
    "        return print('Las dos matrices no se pueden multiplicar')\n",
    "    "
   ]
  },
  {
   "cell_type": "markdown",
   "metadata": {},
   "source": [
    "Primera Parte"
   ]
  },
  {
   "cell_type": "markdown",
   "metadata": {},
   "source": [
    "Punto a.\n"
   ]
  },
  {
   "cell_type": "code",
   "execution_count": 87,
   "metadata": {},
   "outputs": [
    {
     "data": {
      "text/plain": [
       "array([[ 5, -4, -2],\n",
       "       [ 5, -5,  4],\n",
       "       [ 2,  5, -4],\n",
       "       [-5,  4,  3],\n",
       "       [ 3, -4, -3]])"
      ]
     },
     "execution_count": 87,
     "metadata": {},
     "output_type": "execute_result"
    }
   ],
   "source": [
    "M1=np.array([[5,-4,-2],[5,-5,4],[2,5,-4],[-5,4,3],[3,-4,-3]])\n",
    "M1"
   ]
  },
  {
   "cell_type": "code",
   "execution_count": 88,
   "metadata": {},
   "outputs": [
    {
     "data": {
      "text/plain": [
       "array([[ 5],\n",
       "       [-2],\n",
       "       [-3]])"
      ]
     },
     "execution_count": 88,
     "metadata": {},
     "output_type": "execute_result"
    }
   ],
   "source": [
    "M2=np.array([[5],[-2],[-3]])\n",
    "M2"
   ]
  },
  {
   "cell_type": "code",
   "execution_count": 89,
   "metadata": {},
   "outputs": [
    {
     "data": {
      "text/plain": [
       "array([[ 39.],\n",
       "       [ 23.],\n",
       "       [ 12.],\n",
       "       [-42.],\n",
       "       [ 32.]])"
      ]
     },
     "execution_count": 89,
     "metadata": {},
     "output_type": "execute_result"
    }
   ],
   "source": [
    "multiplicacionm(M1,M2)"
   ]
  },
  {
   "cell_type": "markdown",
   "metadata": {},
   "source": [
    "Punto b."
   ]
  },
  {
   "cell_type": "code",
   "execution_count": 90,
   "metadata": {},
   "outputs": [
    {
     "data": {
      "text/plain": [
       "array([[ 0, -1, -1,  3],\n",
       "       [ 5, -5, -2,  2],\n",
       "       [ 1,  0,  4,  5]])"
      ]
     },
     "execution_count": 90,
     "metadata": {},
     "output_type": "execute_result"
    }
   ],
   "source": [
    "M1=np.array([[0,-1,-1,3],[5,-5,-2,2],[1,0,4,5]])\n",
    "M1"
   ]
  },
  {
   "cell_type": "code",
   "execution_count": 91,
   "metadata": {},
   "outputs": [
    {
     "data": {
      "text/plain": [
       "array([[ 0, -3],\n",
       "       [-2, -1],\n",
       "       [ 3, -3]])"
      ]
     },
     "execution_count": 91,
     "metadata": {},
     "output_type": "execute_result"
    }
   ],
   "source": [
    "M2=np.array([[0,-3],[-2,-1],[3,-3]])\n",
    "M2"
   ]
  },
  {
   "cell_type": "code",
   "execution_count": 92,
   "metadata": {},
   "outputs": [
    {
     "name": "stdout",
     "output_type": "stream",
     "text": [
      "Las dos matrices no se pueden multiplicar\n"
     ]
    }
   ],
   "source": [
    "multiplicacionm(M1,M2)"
   ]
  },
  {
   "cell_type": "markdown",
   "metadata": {},
   "source": [
    "Punto c."
   ]
  },
  {
   "cell_type": "code",
   "execution_count": 93,
   "metadata": {},
   "outputs": [
    {
     "data": {
      "text/plain": [
       "array([[ 2, -5,  5,  1],\n",
       "       [ 5,  2, -7, -6],\n",
       "       [-6, -1,  7, -4],\n",
       "       [ 5,  4,  1, -5]])"
      ]
     },
     "execution_count": 93,
     "metadata": {},
     "output_type": "execute_result"
    }
   ],
   "source": [
    "M1=np.array([[2,-5,5,1],[5,2,-7,-6],[-6,-1,7,-4],[5,4,1,-5]])\n",
    "M1"
   ]
  },
  {
   "cell_type": "code",
   "execution_count": 94,
   "metadata": {},
   "outputs": [
    {
     "data": {
      "text/plain": [
       "array([[ 0,  4, -7,  1, -6],\n",
       "       [-1, -6, -5,  1,  1],\n",
       "       [ 2, -1, -6,  5, -5],\n",
       "       [-3, -6,  6,  3,  5]])"
      ]
     },
     "execution_count": 94,
     "metadata": {},
     "output_type": "execute_result"
    }
   ],
   "source": [
    "M2=np.array([[0,4,-7,1,-6],[-1,-6,-5,1,1],[2,-1,-6,5,-5],[-3,-6,6,3,5]])\n",
    "M2"
   ]
  },
  {
   "cell_type": "code",
   "execution_count": 95,
   "metadata": {},
   "outputs": [
    {
     "data": {
      "text/plain": [
       "array([[ 12.,  27., -13.,  25., -37.],\n",
       "       [  2.,  51., -39., -46., -23.],\n",
       "       [ 27.,  -1., -19.,  16., -20.],\n",
       "       [ 13.,  25., -91.,  -1., -56.]])"
      ]
     },
     "execution_count": 95,
     "metadata": {},
     "output_type": "execute_result"
    }
   ],
   "source": [
    "multiplicacionm(M1,M2)"
   ]
  },
  {
   "cell_type": "markdown",
   "metadata": {},
   "source": [
    "Segunda Parte\n",
    "Demuestre que la multiplicacion no es conmutativa utilizando dos matrices cuadradas."
   ]
  },
  {
   "cell_type": "code",
   "execution_count": 96,
   "metadata": {},
   "outputs": [
    {
     "name": "stdout",
     "output_type": "stream",
     "text": [
      "[[ 2. 17.  6.]\n",
      " [ 3.  3. 15.]\n",
      " [18. 18.  5.]]\n",
      "[[ 0. 14. 15.]\n",
      " [18. 16. 16.]\n",
      " [ 7. 11. 11.]]\n"
     ]
    }
   ],
   "source": [
    "n=3\n",
    "#n es la dimension de la matriz cuadrada\n",
    "\n",
    "def matriz_random(n):\n",
    "    #Crea una matriz con valores al azar\n",
    "    Matriz=np.zeros((n,n))\n",
    "    for i in range(n):\n",
    "        for j in range(n):\n",
    "            Matriz[i][j]=np.random.randint(20)\n",
    "            #La funcion random.randint(a) escoge un valor entero al azar de 0 hasta a\n",
    "    return Matriz\n",
    "M1=matriz_random(n)\n",
    "M2=matriz_random(n)   "
   ]
  },
  {
   "cell_type": "code",
   "execution_count": 97,
   "metadata": {},
   "outputs": [
    {
     "name": "stdout",
     "output_type": "stream",
     "text": [
      "La multiplicacion de matrices no es conmutativa\n"
     ]
    }
   ],
   "source": [
    "if np.array_equal(multiplicacionm(M1,M2),multiplicacionm(M2,M1)):\n",
    "    print('La multiplicacion de matrices es conmutativa')\n",
    "else:\n",
    "    print('La multiplicacion de matrices no es conmutativa')"
   ]
  },
  {
   "cell_type": "markdown",
   "metadata": {},
   "source": [
    "Segunda parte: Reduccion Gaussiana\n"
   ]
  },
  {
   "cell_type": "markdown",
   "metadata": {},
   "source": [
    "Ax=b"
   ]
  },
  {
   "cell_type": "markdown",
   "metadata": {},
   "source": [
    "Algoritmo de Reduccion Gaussiana: Jacobi"
   ]
  },
  {
   "cell_type": "code",
   "execution_count": 120,
   "metadata": {},
   "outputs": [],
   "source": [
    "def Jacobi(A,b,x0,itmax=1000,tolerancia=1e-14):\n",
    "    \n",
    "    x = x0.copy()\n",
    "    u = x.copy()\n",
    "    sumk = x.copy()\n",
    "    \n",
    "    residuo = np.linalg.norm( np.dot(A,x) - b)\n",
    "    \n",
    "    #print(residuo)\n",
    "    \n",
    "    it = 0\n",
    "    \n",
    "    while residuo >= tolerancia and it < itmax:\n",
    "        \n",
    "        \n",
    "        u[:] = 0\n",
    "        sumk[:] = 0.\n",
    "        \n",
    "        for i in range(A.shape[0]):\n",
    "            for j in range(A.shape[1]):\n",
    "                if i != j:\n",
    "                    sumk[i] += A[i,j]*x[j]\n",
    "            #print(sumk)\n",
    "        \n",
    "            u[i] = (b[i] - sumk[i])/A[i,i]\n",
    "        \n",
    "        \n",
    "        x = u.copy()\n",
    "        \n",
    "        #print(x,residuo)\n",
    "        # Norma infinita\n",
    "        residuo = np.max(np.abs(np.dot(A,x) - b))\n",
    "        # Norma griega\n",
    "        #residuo = np.linalg.norm( np.dot(A,x) - b)\n",
    "        \n",
    "        it += 1\n",
    "        \n",
    "        if residuo > 1000:\n",
    "            print('No calculable con Jacobi')\n",
    "            x[:] = 0.\n",
    "            break\n",
    "        \n",
    "    return x,it\n",
    "\n"
   ]
  },
  {
   "cell_type": "markdown",
   "metadata": {},
   "source": [
    "Punto a"
   ]
  },
  {
   "cell_type": "code",
   "execution_count": 133,
   "metadata": {},
   "outputs": [],
   "source": [
    "A=np.array([[3.,1.,-1.],[1.,-2.,1.],[4.,-1.,1.]])\n",
    "b=np.array([2.,0.,3.])"
   ]
  },
  {
   "cell_type": "code",
   "execution_count": 114,
   "metadata": {},
   "outputs": [
    {
     "data": {
      "text/plain": [
       "array([0.71428571, 0.85714286, 1.        ])"
      ]
     },
     "execution_count": 114,
     "metadata": {},
     "output_type": "execute_result"
    }
   ],
   "source": [
    "np.linalg.solve(A,b)"
   ]
  },
  {
   "cell_type": "code",
   "execution_count": 134,
   "metadata": {},
   "outputs": [
    {
     "name": "stdout",
     "output_type": "stream",
     "text": [
      "No calculable con Jacobi\n"
     ]
    },
    {
     "data": {
      "text/plain": [
       "(array([0., 0., 0.]), 37)"
      ]
     },
     "execution_count": 134,
     "metadata": {},
     "output_type": "execute_result"
    }
   ],
   "source": [
    "Jacobi(A,b,np.array([0.,0.,0.]))"
   ]
  },
  {
   "cell_type": "markdown",
   "metadata": {},
   "source": [
    "Punto b"
   ]
  },
  {
   "cell_type": "code",
   "execution_count": 107,
   "metadata": {},
   "outputs": [],
   "source": [
    "A2=np.array([[1,1,1],[4,-8,0],[0,-8,10]])\n",
    "b2=np.array([0,6,0])"
   ]
  },
  {
   "cell_type": "markdown",
   "metadata": {},
   "source": [
    "Se realizo un intercambio entre las filas 2 y 3 para que logre funcionar el codigo"
   ]
  },
  {
   "cell_type": "code",
   "execution_count": 108,
   "metadata": {},
   "outputs": [
    {
     "data": {
      "text/plain": [
       "(array([ 0.71052632, -0.39473684, -0.31578947]), 259)"
      ]
     },
     "execution_count": 108,
     "metadata": {},
     "output_type": "execute_result"
    }
   ],
   "source": [
    "Jacobi(A2,b2,np.array([0.,0.,0.]))"
   ]
  },
  {
   "cell_type": "code",
   "execution_count": 104,
   "metadata": {},
   "outputs": [
    {
     "data": {
      "text/plain": [
       "array([ 0.71052632, -0.39473684, -0.31578947])"
      ]
     },
     "execution_count": 104,
     "metadata": {},
     "output_type": "execute_result"
    }
   ],
   "source": [
    "np.linalg.solve(A2,b2)"
   ]
  },
  {
   "cell_type": "markdown",
   "metadata": {},
   "source": [
    "Punto 3\n",
    "Valores y vectores propios"
   ]
  },
  {
   "cell_type": "code",
   "execution_count": 136,
   "metadata": {},
   "outputs": [],
   "source": [
    "def GetT(A):\n",
    "    \n",
    "    M,N = A.shape\n",
    "    \n",
    "    D = np.zeros((M,N))\n",
    "    R = D.copy()\n",
    "    T = R.copy()\n",
    "    \n",
    "    for i in range(A.shape[0]):\n",
    "        for j in range(A.shape[1]):\n",
    "            if i == j:\n",
    "              #  print(A[i,j])\n",
    "               # print(1./A[i,j])\n",
    "                D[i,j] = 1./A[i,j]\n",
    "            else:\n",
    "                R[i,j] = A[i,j]\n",
    "    \n",
    " #   print(D)\n",
    " #   print(R)\n",
    "    return np.dot(D,R)"
   ]
  },
  {
   "cell_type": "code",
   "execution_count": 135,
   "metadata": {},
   "outputs": [],
   "source": [
    "Matriz=np.array([[-2,1,0],[1,-2,1],[0,1,-2]])"
   ]
  },
  {
   "cell_type": "code",
   "execution_count": 138,
   "metadata": {},
   "outputs": [
    {
     "data": {
      "text/plain": [
       "(array([-3.41421356, -2.        , -0.58578644]),\n",
       " array([[ 5.00000000e-01,  7.07106781e-01,  5.00000000e-01],\n",
       "        [-7.07106781e-01, -4.05405432e-16,  7.07106781e-01],\n",
       "        [ 5.00000000e-01, -7.07106781e-01,  5.00000000e-01]]))"
      ]
     },
     "execution_count": 138,
     "metadata": {},
     "output_type": "execute_result"
    }
   ],
   "source": [
    "Values,Vectors = np.linalg.eig(GetT(Matriz))\n",
    "Values, Vectors"
   ]
  }
 ],
 "metadata": {
  "kernelspec": {
   "display_name": "Python 3",
   "language": "python",
   "name": "python3"
  },
  "language_info": {
   "codemirror_mode": {
    "name": "ipython",
    "version": 3
   },
   "file_extension": ".py",
   "mimetype": "text/x-python",
   "name": "python",
   "nbconvert_exporter": "python",
   "pygments_lexer": "ipython3",
   "version": "3.9.13"
  }
 },
 "nbformat": 4,
 "nbformat_minor": 2
}
