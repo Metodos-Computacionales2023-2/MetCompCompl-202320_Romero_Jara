{
 "cells": [
  {
   "cell_type": "code",
   "execution_count": 336,
   "metadata": {},
   "outputs": [],
   "source": [
    "import numpy as np"
   ]
  },
  {
   "cell_type": "markdown",
   "metadata": {},
   "source": [
    "# Calculo de probabilidad\n"
   ]
  },
  {
   "cell_type": "markdown",
   "metadata": {},
   "source": [
    "1. Se reparten cartas, una a la vez, de una baraja de 52 cartas.\n",
    "\n",
    "a) Si las primeras 2 cartas son espadas, ¿cúal es la probabilidad de que las siguientes 3 cartas tambi´en\n",
    "sean espadas?\n",
    "\n",
    "b) Si las primeras 3 cartas son todas de espadas, ¿cúal es la probabilidad de que las 2 cartas siguientes\n",
    "sean tambi´en espadas?\n",
    "\n",
    "c) Si las primeras 4 cartas son todas de espadas, ¿cúal es la probabilidad de que la siguiente carta sea\n",
    "tambi´en una espada?"
   ]
  },
  {
   "cell_type": "code",
   "execution_count": 337,
   "metadata": {},
   "outputs": [],
   "source": [
    "def GetSamplecartas(N = int(1e4), ncartas = 0):\n",
    "    \n",
    "    Sample = np.zeros((N,ncartas))\n",
    "    Events = [0] * (13-(5-ncartas)) + [1] * 39\n",
    "    \n",
    "    \n",
    "    for i in range(N):\n",
    "        np.random.shuffle(Events)\n",
    "        cartas_tomo = Events[:ncartas]\n",
    "            \n",
    "       # print(Exp)\n",
    "        Sample[i] = cartas_tomo\n",
    "        \n",
    "    return Sample"
   ]
  },
  {
   "cell_type": "code",
   "execution_count": 338,
   "metadata": {},
   "outputs": [],
   "source": [
    "def prob_muestreo(N = int(1e4), ncartas = 0):\n",
    "    total = GetSamplecartas(N, ncartas)\n",
    "    Frecuenciascartas = np.array([],dtype=np.int64)\n",
    "\n",
    "    for i in range(total.shape[0]):\n",
    "        \n",
    "        NEspadas = 0\n",
    "        \n",
    "        for j in range(total.shape[1]):\n",
    "            \n",
    "            if total[i,j] == 0:\n",
    "                NEspadas += 1\n",
    "                \n",
    "        Frecuenciascartas = np.append(Frecuenciascartas,NEspadas)\n",
    "    \n",
    "    ii = np.where( Frecuenciascartas == ncartas )\n",
    "    Eventsc = len(Frecuenciascartas[ii])\n",
    "\n",
    "    return Eventsc/N"
   ]
  },
  {
   "cell_type": "code",
   "execution_count": 339,
   "metadata": {},
   "outputs": [],
   "source": [
    "N = 100000"
   ]
  },
  {
   "cell_type": "code",
   "execution_count": 340,
   "metadata": {},
   "outputs": [
    {
     "name": "stdout",
     "output_type": "stream",
     "text": [
      "La probabilidad de que las siguientes 3 cartas también sean espadas si las dos primeras son espadas por medio de muestreo aleatorio es 0.00882 mientras que el teorico es 0.0084\n"
     ]
    }
   ],
   "source": [
    "espadas_iniciales = 2\n",
    "n = 3\n",
    "teo = 0.0084\n",
    "muestreo = prob_muestreo(N, n)\n",
    "print('La probabilidad de que las siguientes 3 cartas también sean espadas si las dos primeras son espadas por medio de muestreo aleatorio es ' + str(muestreo) + ' mientras que el teorico es ' + str(teo))"
   ]
  },
  {
   "cell_type": "code",
   "execution_count": 341,
   "metadata": {},
   "outputs": [
    {
     "name": "stdout",
     "output_type": "stream",
     "text": [
      "La probabilidad de que las siguientes 2 cartas también sean espadas si las tres primeras son espadas por medio de muestreo aleatorio es 0.0373 mientras que el teorico es 0.0383\n"
     ]
    }
   ],
   "source": [
    "espadas_iniciales = 3\n",
    "n = 2\n",
    "teo = 0.0383\n",
    "muestreo = prob_muestreo(N, n)\n",
    "print('La probabilidad de que las siguientes 2 cartas también sean espadas si las tres primeras son espadas por medio de muestreo aleatorio es ' + str(muestreo) + ' mientras que el teorico es ' + str(teo))"
   ]
  },
  {
   "cell_type": "code",
   "execution_count": 342,
   "metadata": {},
   "outputs": [
    {
     "name": "stdout",
     "output_type": "stream",
     "text": [
      "La probabilidad de que las siguientes 2 cartas también sean espadas si las tres primeras son espadas por medio de muestreo aleatorio es 0.18531 mientras que el teorico es 0.1875\n"
     ]
    }
   ],
   "source": [
    "espadas_iniciales = 4\n",
    "n = 1\n",
    "teo = 0.1875\n",
    "muestreo = prob_muestreo(N, n)\n",
    "print('La probabilidad de que las siguientes 2 cartas también sean espadas si las tres primeras son espadas por medio de muestreo aleatorio es ' + str(muestreo) + ' mientras que el teorico es ' + str(teo))"
   ]
  },
  {
   "cell_type": "markdown",
   "metadata": {},
   "source": [
    "2. Suponga que la probabilidad de exposici´on a la gripe durante una epidemia es .6. La experiencia ha\n",
    "demostrado que un suero tiene 80 % de ´exito para prevenir que una persona inoculada contraiga la gripe\n",
    "si se expone a ella. Una persona no inoculada enfrenta una probabilidad de ,90 de contraer la gripe si se\n",
    "expone a ella. Dos personas, una inoculada y otra no, realizan un trabajo altamente especializado en un\n",
    "negocio. Suponga que no est´an en el mismo lugar, no est´an en contacto con las mismas personas y no\n",
    "pueden contagiarse entre s´ı a la gripe. ¿Cu´al es la probabilidad de que al menos una de ellas se enferme?"
   ]
  },
  {
   "cell_type": "code",
   "execution_count": 343,
   "metadata": {},
   "outputs": [],
   "source": [
    "def proba_epidemia(N):\n",
    "    Probabilidad_vacunado = [1] * 2 + [0] * 8\n",
    "    Probabilidad_Nvacunado = [1] * 9 + [0] * 1\n",
    "    Expuso = [1] * 6 + [0] * 4\n",
    "    Exito = 0\n",
    "\n",
    "    for i in range(N):\n",
    "        Exp_vacunado = np.random.choice(Expuso,1)\n",
    "        vacunado = False\n",
    "        if Exp_vacunado == 1:\n",
    "            enfermo = np.random.choice(Probabilidad_vacunado, 1)\n",
    "            if enfermo == 1:\n",
    "                Exito += 1\n",
    "                vacunado = True\n",
    "        Exp_Nvacunado = np.random.choice(Expuso,1)\n",
    "        if Exp_Nvacunado == 1 and vacunado == False:\n",
    "            enfermoN = np.random.choice(Probabilidad_Nvacunado, 1)\n",
    "            if enfermoN == 1:\n",
    "                Exito += 1\n",
    "    \n",
    "    return Exito/N\n",
    "\n",
    "        "
   ]
  },
  {
   "cell_type": "code",
   "execution_count": 344,
   "metadata": {},
   "outputs": [
    {
     "name": "stdout",
     "output_type": "stream",
     "text": [
      "La probabilidad de que al menos una persona se enferme es por medio de muestreo aleatorio es 0.59476 mientras que el teorico es 0.5952\n"
     ]
    }
   ],
   "source": [
    "result = proba_epidemia(N)\n",
    "teo = 0.5952\n",
    "print('La probabilidad de que al menos una persona se enferme es por medio de muestreo aleatorio es ' + str(result) + ' mientras que el teorico es ' + str(teo))"
   ]
  },
  {
   "cell_type": "markdown",
   "metadata": {},
   "source": [
    "# 2. Distribuciones de probabilidad discretas"
   ]
  },
  {
   "cell_type": "markdown",
   "metadata": {},
   "source": [
    "1. El muestreo de piezas defectuosas de grandes lotes de productos manufacturados da un n´umero de\n",
    "piezas defectuosas, Y , que sigue una distribuci´on de probabilidad binomial. Un plan de muestreo consiste\n",
    "en especificar el n´umero de piezas n por incluirse en una muestra y un n´umero de aceptaci´on a. El\n",
    "lote es aceptado si Y ≤ a y rechazado si Y > a. Denote con p la proporci´on de piezas defectuosas del\n",
    "lote. Un ingeniero de control de calidad desea estudiar planes de muestreo alternativos: n = 5, a = 1 y\n",
    "n = 25, a = 5. Construya las curvas caracter´ısticas de operaci´on para ambos planes, haciendo uso de\n",
    "probabilidades de aceptaci´on en el rango p ∈ [0, 1].\n",
    "\n",
    "a) Si usted fuera un vendedor que produce lotes con una fracci´on defectuosa que va de p = 0ap = ,10,\n",
    "¿cu´al de los dos planes de muestreo preferir´ıa?\n",
    "\n",
    "b) Si usted fuera un comprador que desea protegerse contra la aceptaci´on de lotes con una fracci´on\n",
    "defectuosa que exceda de p = ,30, ¿cu´al de los dos planes de muestreo preferir´ıa?"
   ]
  }
 ],
 "metadata": {
  "kernelspec": {
   "display_name": "Python 3",
   "language": "python",
   "name": "python3"
  },
  "language_info": {
   "codemirror_mode": {
    "name": "ipython",
    "version": 3
   },
   "file_extension": ".py",
   "mimetype": "text/x-python",
   "name": "python",
   "nbconvert_exporter": "python",
   "pygments_lexer": "ipython3",
   "version": "3.11.5"
  }
 },
 "nbformat": 4,
 "nbformat_minor": 2
}
