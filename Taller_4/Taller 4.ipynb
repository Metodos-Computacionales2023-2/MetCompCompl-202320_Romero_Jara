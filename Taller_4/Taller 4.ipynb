{
 "cells": [
  {
   "cell_type": "code",
   "execution_count": 3,
   "metadata": {},
   "outputs": [],
   "source": [
    "import numpy as np\n",
    "import sympy as sym\n",
    "import matplotlib.pyplot as plt\n",
    "import scipy as sc"
   ]
  },
  {
   "cell_type": "markdown",
   "metadata": {},
   "source": [
    "# 1. Calculo de probabilidad\n"
   ]
  },
  {
   "cell_type": "markdown",
   "metadata": {},
   "source": [
    "1. Se reparten cartas, una a la vez, de una baraja de 52 cartas.\n",
    "\n",
    "    a) Si las primeras 2 cartas son espadas, ¿cúal es la probabilidad de que las siguientes 3 cartas también\n",
    "sean espadas?\n",
    "\n",
    "    b) Si las primeras 3 cartas son todas de espadas, ¿cúal es la probabilidad de que las 2 cartas siguientes\n",
    "sean también espadas?\n",
    "\n",
    "    c) Si las primeras 4 cartas son todas de espadas, ¿cúal es la probabilidad de que la siguiente carta sea\n",
    "también una espada?"
   ]
  },
  {
   "cell_type": "code",
   "execution_count": 227,
   "metadata": {},
   "outputs": [],
   "source": [
    "def GetSamplecartas(N = int(1e4), ncartas = 0):\n",
    "    \n",
    "    Sample = np.zeros((N,ncartas))\n",
    "    Events = [0] * (13-(5-ncartas)) + [1] * 39\n",
    "    \n",
    "    \n",
    "    for i in range(N):\n",
    "        np.random.shuffle(Events)\n",
    "        cartas_tomo = Events[:ncartas]\n",
    "            \n",
    "       # print(Exp)\n",
    "        Sample[i] = cartas_tomo\n",
    "        \n",
    "    return Sample"
   ]
  },
  {
   "cell_type": "code",
   "execution_count": 228,
   "metadata": {},
   "outputs": [],
   "source": [
    "def prob_muestreo(N = int(1e4), ncartas = 0):\n",
    "    total = GetSamplecartas(N, ncartas)\n",
    "    Frecuenciascartas = np.array([],dtype=np.int64)\n",
    "\n",
    "    for i in range(total.shape[0]):\n",
    "        \n",
    "        NEspadas = 0\n",
    "        \n",
    "        for j in range(total.shape[1]):\n",
    "            \n",
    "            if total[i,j] == 0:\n",
    "                NEspadas += 1\n",
    "                \n",
    "        Frecuenciascartas = np.append(Frecuenciascartas,NEspadas)\n",
    "    \n",
    "    ii = np.where( Frecuenciascartas == ncartas )\n",
    "    Eventsc = len(Frecuenciascartas[ii])\n",
    "\n",
    "    return Eventsc/N"
   ]
  },
  {
   "cell_type": "code",
   "execution_count": 229,
   "metadata": {},
   "outputs": [],
   "source": [
    "N = 10000"
   ]
  },
  {
   "cell_type": "code",
   "execution_count": 230,
   "metadata": {},
   "outputs": [
    {
     "name": "stdout",
     "output_type": "stream",
     "text": [
      "La probabilidad de que las siguientes 3 cartas también sean espadas si las dos primeras son espadas por medio de muestreo aleatorio es 0.0085 mientras que el teorico es 0.0084.\n"
     ]
    }
   ],
   "source": [
    "espadas_iniciales = 2\n",
    "n = 3\n",
    "teo = 0.0084\n",
    "muestreo = prob_muestreo(N, n)\n",
    "print('La probabilidad de que las siguientes 3 cartas también sean espadas si las dos primeras son espadas por medio de muestreo aleatorio es ' + str(muestreo) + ' mientras que el teorico es ' + str(teo) + '.')"
   ]
  },
  {
   "cell_type": "code",
   "execution_count": 231,
   "metadata": {},
   "outputs": [
    {
     "name": "stdout",
     "output_type": "stream",
     "text": [
      "La probabilidad de que las siguientes 2 cartas también sean espadas si las tres primeras son espadas por medio de muestreo aleatorio es 0.0382 mientras que el teorico es 0.0383\n"
     ]
    }
   ],
   "source": [
    "espadas_iniciales = 3\n",
    "n = 2\n",
    "teo = 0.0383\n",
    "muestreo = prob_muestreo(N, n)\n",
    "print('La probabilidad de que las siguientes 2 cartas también sean espadas si las tres primeras son espadas por medio de muestreo aleatorio es ' + str(muestreo) + ' mientras que el teorico es ' + str(teo))"
   ]
  },
  {
   "cell_type": "code",
   "execution_count": 232,
   "metadata": {},
   "outputs": [
    {
     "name": "stdout",
     "output_type": "stream",
     "text": [
      "La probabilidad de que las siguientes 2 cartas también sean espadas si las tres primeras son espadas por medio de muestreo aleatorio es 0.1894 mientras que el teorico es 0.1875\n"
     ]
    }
   ],
   "source": [
    "espadas_iniciales = 4\n",
    "n = 1\n",
    "teo = 0.1875\n",
    "muestreo = prob_muestreo(N, n)\n",
    "print('La probabilidad de que las siguientes 2 cartas también sean espadas si las tres primeras son espadas por medio de muestreo aleatorio es ' + str(muestreo) + ' mientras que el teorico es ' + str(teo))"
   ]
  },
  {
   "cell_type": "markdown",
   "metadata": {},
   "source": [
    "2. Suponga que la probabilidad de exposición a la gripe durante una epidemia es .6. La experiencia ha demostrado que un suero tiene 80 % de éxito para prevenir que una persona inoculada contraiga la gripe si se expone a ella. Una persona no inoculada enfrenta una probabilidad de ,90 de contraer la gripe si se expone a ella. Dos personas, una inoculada y otra no, realizan un trabajo altamente especializado en un negocio. Suponga que no están en el mismo lugar, no están en contacto con las mismas personas y no pueden contagiarse entre sí a la gripe. ¿Cuál es la probabilidad de que al menos una de ellas se enferme?"
   ]
  },
  {
   "cell_type": "code",
   "execution_count": 233,
   "metadata": {},
   "outputs": [],
   "source": [
    "def proba_epidemia(N):\n",
    "    Probabilidad_vacunado = [1] * 2 + [0] * 8\n",
    "    Probabilidad_Nvacunado = [1] * 9 + [0] * 1\n",
    "    Expuso = [1] * 6 + [0] * 4\n",
    "    Exito = 0\n",
    "\n",
    "    for i in range(N):\n",
    "        Exp_vacunado = np.random.choice(Expuso,1)\n",
    "        vacunado = False\n",
    "        if Exp_vacunado == 1:\n",
    "            enfermo = np.random.choice(Probabilidad_vacunado, 1)\n",
    "            if enfermo == 1:\n",
    "                Exito += 1\n",
    "                vacunado = True\n",
    "        Exp_Nvacunado = np.random.choice(Expuso,1)\n",
    "        if Exp_Nvacunado == 1 and vacunado == False:\n",
    "            enfermoN = np.random.choice(Probabilidad_Nvacunado, 1)\n",
    "            if enfermoN == 1:\n",
    "                Exito += 1\n",
    "    \n",
    "    return Exito/N\n",
    "\n",
    "        "
   ]
  },
  {
   "cell_type": "code",
   "execution_count": 234,
   "metadata": {},
   "outputs": [
    {
     "name": "stdout",
     "output_type": "stream",
     "text": [
      "La probabilidad de que al menos una persona se enferme por medio de muestreo aleatorio es 0.596 mientras que el teorico es 0.5952\n"
     ]
    }
   ],
   "source": [
    "result = proba_epidemia(N)\n",
    "teo = 0.5952\n",
    "print('La probabilidad de que al menos una persona se enferme por medio de muestreo aleatorio es ' + str(result) + ' mientras que el teorico es ' + str(teo))"
   ]
  },
  {
   "cell_type": "markdown",
   "metadata": {},
   "source": [
    "# 2. Distribuciones de probabilidad discretas"
   ]
  },
  {
   "cell_type": "markdown",
   "metadata": {},
   "source": [
    "1. El muestreo de piezas defectuosas de grandes lotes de productos manufacturados da un número de piezas defectuosas, Y , que sigue una distribución de probabilidad binomial. Un plan de muestreo consiste en especificar el número de piezas n por incluirse en una muestra y un número de aceptación a. El lote es aceptado si Y ≤ a y rechazado si Y > a. Denote con p la proporci´on de piezas defectuosas del lote. Un ingeniero de control de calidad desea estudiar planes de muestreo alternativos: n = 5, a = 1 y n = 25, a = 5. Construya las curvas características de operación para ambos planes, haciendo uso de probabilidades de aceptación en el rango p ∈ [0, 1].\n",
    "\n",
    "    a) Si usted fuera un vendedor que produce lotes con una fracción defectuosa que va de p = 0ap = ,10, ¿cuál de los dos planes de muestreo preferiría?\n",
    "\n",
    "    b) Si usted fuera un comprador que desea protegerse contra la aceptación de lotes con una fracción defectuosa que exceda de p = ,30, ¿cuál de los dos planes de muestreo preferiría?"
   ]
  },
  {
   "cell_type": "code",
   "execution_count": 235,
   "metadata": {},
   "outputs": [
    {
     "name": "stderr",
     "output_type": "stream",
     "text": [
      "C:\\Users\\ASUS\\AppData\\Local\\Temp\\ipykernel_6824\\3114197326.py:5: DeprecationWarning: `np.math` is a deprecated alias for the standard library `math` module (Deprecated Numpy 1.25). Replace usages of `np.math` with `math`\n",
      "  result += (np.math.factorial(n)/(np.math.factorial(n-k)*np.math.factorial(k)))*(p**k)*((1-p)**(n-k))\n"
     ]
    },
    {
     "data": {
      "image/png": "[encoded data removed]",
      "text/plain": [
       "<Figure size 640x480 with 1 Axes>"
      ]
     },
     "metadata": {},
     "output_type": "display_data"
    }
   ],
   "source": [
    "p = sym.Symbol('p',real=True)\n",
    "def prob_aceptacion(p, n, a):\n",
    "    result = 0\n",
    "    for k in range(a + 1):\n",
    "        result += (np.math.factorial(n)/(np.math.factorial(n-k)*np.math.factorial(k)))*(p**k)*((1-p)**(n-k))\n",
    "    return result\n",
    "\n",
    "p_values = np.linspace(0, 1, 100)\n",
    "\n",
    "plan1 = prob_aceptacion(p_values, 5, 1)\n",
    "plan2 = prob_aceptacion(p_values, 25, 5)\n",
    "\n",
    "plt.plot(p_values, plan1, label='Plan 1 (n=5, a=1)')\n",
    "plt.plot(p_values, plan2, label='Plan 2 (n=25, a=5)')\n",
    "\n",
    "plt.title('Curvas Características de Operación')\n",
    "plt.xlabel('Proporción de Piezas Defectuosas (p)')\n",
    "plt.ylabel('Probabilidad de Aceptación (P)')\n",
    "plt.legend()\n",
    "plt.show()"
   ]
  },
  {
   "cell_type": "markdown",
   "metadata": {},
   "source": [
    "a) Si usted fuera un vendedor que produce lotes con una fracción defectuosa que va de p = 0ap = ,10, ¿cuál de los dos planes de muestreo preferiría?\n",
    "    \n",
    "    Preferiría el segundo plan ya que en el intervalo 0 - 0.1 hay mas probabilidades de que el producto sea aceptado.\n",
    "\n",
    "b) Si usted fuera un comprador que desea protegerse contra la aceptación de lotes con una fracción defectuosa que exceda de p = ,30, ¿cuál de los dos planes de muestreo preferiría?\n",
    "    \n",
    "    Preferiria el primer plan ya que a medida que la proporcion de piezas defectuosas aumenta, la probabilidad de aceptación se reduce gradualmente mientras que el segundo plan a partir de 0.3 descarta todos los lotes."
   ]
  },
  {
   "cell_type": "markdown",
   "metadata": {},
   "source": [
    "2. El número de desconexiones del servidor de una compañía sigue una distribución de Poisson con una\n",
    "tasa de una desconexión cada 4 horas."
   ]
  },
  {
   "cell_type": "code",
   "execution_count": 236,
   "metadata": {},
   "outputs": [
    {
     "name": "stderr",
     "output_type": "stream",
     "text": [
      "C:\\Users\\ASUS\\AppData\\Local\\Temp\\ipykernel_6824\\4285770364.py:5: DeprecationWarning: `np.math` is a deprecated alias for the standard library `math` module (Deprecated Numpy 1.25). Replace usages of `np.math` with `math`\n",
      "  x = np.exp(-1)*(1**int(i))/(np.math.factorial(int(i)))\n"
     ]
    },
    {
     "data": {
      "image/png": "[encoded data removed]",
      "text/plain": [
       "<Figure size 640x480 with 1 Axes>"
      ]
     },
     "metadata": {},
     "output_type": "display_data"
    }
   ],
   "source": [
    "d = sym.Symbol('d',real=True)\n",
    "def n_desconexiones(d):\n",
    "    new = []\n",
    "    for i in d:\n",
    "        x = np.exp(-1)*(1**int(i))/(np.math.factorial(int(i)))\n",
    "        new.append(x)\n",
    "    return np.array(new)\n",
    "\n",
    "d_values = np.arange(1, 7)\n",
    "\n",
    "desconexiones_values = n_desconexiones(d_values)\n",
    "\n",
    "plt.bar(d_values, desconexiones_values)\n",
    "plt.ylim(0,0.05)\n",
    "plt.axhline(y=0.01, color='g', linestyle='--')\n",
    "\n",
    "plt.title('Distribución de Poisson para Desconexiones del Servidor')\n",
    "plt.xlabel('Número de Desconexiones por Intervalo de 4 Horas')\n",
    "plt.ylabel('Probabilidad')\n",
    "plt.show()"
   ]
  },
  {
   "cell_type": "markdown",
   "metadata": {},
   "source": [
    "a) Encuentre el menor valor de n tal que la probabilidad de que haya al menos n desconexiones en menos de un período de 4 horas es menor que 0.01.\n",
    "\n",
    "    Según el grafico elaborado se puede observar que el menor valor de n es n = 5."
   ]
  },
  {
   "cell_type": "code",
   "execution_count": 237,
   "metadata": {},
   "outputs": [
    {
     "name": "stderr",
     "output_type": "stream",
     "text": [
      "No artists with labels found to put in legend.  Note that artists whose label start with an underscore are ignored when legend() is called with no argument.\n"
     ]
    },
    {
     "data": {
      "image/png": "[encoded data removed]",
      "text/plain": [
       "<Figure size 640x480 with 1 Axes>"
      ]
     },
     "metadata": {},
     "output_type": "display_data"
    }
   ],
   "source": [
    "h = sym.Symbol('d',real=True)\n",
    "def h_horas(h):\n",
    "    new = []\n",
    "    for i in h:\n",
    "        x = np.exp(-1*(i/4))\n",
    "        new.append(x)\n",
    "    return np.array(new)\n",
    "\n",
    "h_values = np.arange(1, 20)\n",
    "\n",
    "horas_values = h_horas(h_values)\n",
    "\n",
    "plt.bar(h_values, horas_values)\n",
    "plt.ylim(0,0.05)\n",
    "plt.axhline(y=0.02, color='g', linestyle='--')\n",
    "\n",
    "plt.title('Distribución de Poisson para 0 desconexiones en h horas')\n",
    "plt.xlabel('Número de horas')\n",
    "plt.ylabel('Probabilidad')\n",
    "plt.legend()\n",
    "plt.show()"
   ]
  },
  {
   "cell_type": "markdown",
   "metadata": {},
   "source": [
    "b) Encuentre el menor valor del número de horas h tal que la probabilidad de que no haya desconexiones en h horas sea menor que 0.02.\n",
    "    \n",
    "    Según el grafico realizado el menor valor de h para que la probabilidad sea menor a 0.02 es h = 16."
   ]
  },
  {
   "cell_type": "code",
   "execution_count": 238,
   "metadata": {},
   "outputs": [
    {
     "data": {
      "text/plain": [
       "0.14699594306608088"
      ]
     },
     "execution_count": 238,
     "metadata": {},
     "output_type": "execute_result"
    }
   ],
   "source": [
    "probabilidad_no = np.exp(-1)\n",
    "probabilidad_si = 1 - probabilidad_no\n",
    "\n",
    "probabilidad_total = (probabilidad_si**2)*probabilidad_no\n",
    "\n",
    "probabilidad_total"
   ]
  },
  {
   "cell_type": "markdown",
   "metadata": {},
   "source": [
    "c) Encuentre la probabilidad de que en 3 períodos consecutivos de 4 horas, haya solamente un período de 4 horas sin desconexiones.\n",
    "    \n",
    "    La probabilidad de que en 3 periodos consecutivos haya solamente un periodo sin desconexiones es de 0.15"
   ]
  },
  {
   "cell_type": "code",
   "execution_count": 239,
   "metadata": {},
   "outputs": [
    {
     "name": "stderr",
     "output_type": "stream",
     "text": [
      "C:\\Users\\ASUS\\AppData\\Local\\Temp\\ipykernel_6824\\2555163257.py:1: DeprecationWarning: `np.math` is a deprecated alias for the standard library `math` module (Deprecated Numpy 1.25). Replace usages of `np.math` with `math`\n",
      "  probabilidad_esperada = np.exp(-3)*(3**3)/(np.math.factorial(3))\n"
     ]
    },
    {
     "data": {
      "text/plain": [
       "0.22404180765538775"
      ]
     },
     "execution_count": 239,
     "metadata": {},
     "output_type": "execute_result"
    }
   ],
   "source": [
    "probabilidad_esperada = np.exp(-3)*(3**3)/(np.math.factorial(3))\n",
    "\n",
    "probabilidad_esperada"
   ]
  },
  {
   "cell_type": "markdown",
   "metadata": {},
   "source": [
    "d) Encuentre la probabilidad de que el número de desconexiones en 3 períodos consecutivos de 4 horas sea igual al número esperaod de desconexiones en 3 períodos consecutivos de 4 horas.\n",
    "\n",
    "    La probabilidad es de 0.22"
   ]
  },
  {
   "cell_type": "markdown",
   "metadata": {},
   "source": [
    "# 3. Distribuciones de probabilidad continuas\n",
    "1. Suponga que el error en la temperatura en un experimento controlado de laboratorio es una variable aleatoria continua X, que tiene la siguiente función de densidad de probabilidad:\n",
    "\n",
    "    Encuentre las probabilidades:\n",
    "\n",
    "    a) P(0 < X ≤ 1)\n",
    "    \n",
    "    b) P(1 < X ≤ 2)"
   ]
  },
  {
   "cell_type": "code",
   "execution_count": 4,
   "metadata": {},
   "outputs": [
    {
     "name": "stdout",
     "output_type": "stream",
     "text": [
      "0.11111111111111112\n",
      "0.7777777777777778\n"
     ]
    }
   ],
   "source": [
    "def f(x):\n",
    "    return (x**2) /3\n",
    "print(sc.integrate.quad(f,0,1)[0])\n",
    "print(sc.integrate.quad(f,1,2)[0])"
   ]
  },
  {
   "cell_type": "markdown",
   "metadata": {},
   "source": [
    "a) P(0 < X ≤ 1) = 0.11\n",
    "    \n",
    "b) P(1 < X ≤ 2) = 0.77"
   ]
  },
  {
   "cell_type": "markdown",
   "metadata": {},
   "source": [
    "2. Se supone que las calificaciones de un examen están normalmente distribuidas con media 78 y varianza de 36.\n",
    "\n",
    "    a) ¿Cuál es la probabilidad de que una persona que haga el examen alcance calificaciones mayores de 72?"
   ]
  },
  {
   "cell_type": "code",
   "execution_count": 55,
   "metadata": {},
   "outputs": [
    {
     "name": "stdout",
     "output_type": "stream",
     "text": [
      "0.8413447460685429\n",
      "La probabilidad de que una persona alcance calificaciones mayores de 72 es de:  84.0 %\n"
     ]
    }
   ],
   "source": [
    "def z_score(miu, delta, x):\n",
    "    o = delta**(1/2)\n",
    "    return (x-miu)/(o)\n",
    "\n",
    "z = z_score(78,36,72)\n",
    "#probabilidad de sacar calificaciones < 72\n",
    "probabilidad = sc.stats.norm.cdf(z)\n",
    "print('La probabilidad de que una persona alcance calificaciones mayores de 72 es de: ', round(1-probabilidad,2)*100, '%')"
   ]
  },
  {
   "cell_type": "markdown",
   "metadata": {},
   "source": [
    "b) Suponga que los estudiantes que alcancen el 10 % más alto de esta distribución reciben una calificación de A. ¿Cuál es la calificación mínima que un estudiante debe recibir para ganar una calificación de A?"
   ]
  },
  {
   "cell_type": "code",
   "execution_count": 48,
   "metadata": {},
   "outputs": [
    {
     "name": "stdout",
     "output_type": "stream",
     "text": [
      "La calificación mínima para obtener una A es de:  85.69\n"
     ]
    }
   ],
   "source": [
    "probabilidad = 1 - 0.1\n",
    "z = sc.stats.norm.ppf(probabilidad)\n",
    "def inversa_z_score(miu, delta, z):\n",
    "    o = delta**(1/2)\n",
    "    return (z*o)+miu\n",
    "\n",
    "x = inversa_z_score(78,36,z)\n",
    "print('La calificación mínima para obtener una A es de: ', round(x,2))"
   ]
  },
  {
   "cell_type": "markdown",
   "metadata": {},
   "source": [
    "c) ¿Cuál debe ser el punto límite para pasar el examen si el examinador desea pasar a sólo 28,1 % más\n",
    "alto de todas las calificaciones?\n"
   ]
  },
  {
   "cell_type": "code",
   "execution_count": 49,
   "metadata": {},
   "outputs": [
    {
     "name": "stdout",
     "output_type": "stream",
     "text": [
      "El punto límite es:  81.48\n"
     ]
    }
   ],
   "source": [
    "probabilidad = 1 - 0.281\n",
    "z = sc.stats.norm.ppf(probabilidad)\n",
    "x = inversa_z_score(78,36,z)\n",
    "print('El punto límite es: ', round(x,2))"
   ]
  },
  {
   "cell_type": "markdown",
   "metadata": {},
   "source": [
    "d) Aproximadamente qué proporción de estudiantes tienen calificaciones de 5 o más puntos arriba de la calificación que corta al 25 % más bajo?"
   ]
  },
  {
   "cell_type": "code",
   "execution_count": 60,
   "metadata": {},
   "outputs": [
    {
     "name": "stdout",
     "output_type": "stream",
     "text": [
      "La proporción de estudiantes es de aproximadamente:  43.69 %\n"
     ]
    }
   ],
   "source": [
    "probabilidad_1 = 0.25\n",
    "z_1 = sc.stats.norm.ppf(probabilidad_1)\n",
    "x_1 = inversa_z_score(78,36,z_1)\n",
    "x_2 = x_1 + 5\n",
    "z_2 = z_score(78,36,x_2)\n",
    "probabilidad_2 = sc.stats.norm.cdf(z_2)\n",
    "\n",
    "print('La proporción de estudiantes es de aproximadamente: ', round((1-probabilidad_2)*100,2), '%')"
   ]
  },
  {
   "cell_type": "markdown",
   "metadata": {},
   "source": [
    "e) Si se sabe que la calificación de un estudiante excede de 72, ¿cuál es la probabilidad de que su calificación exceda de 84?"
   ]
  },
  {
   "cell_type": "code",
   "execution_count": 61,
   "metadata": {},
   "outputs": [
    {
     "name": "stdout",
     "output_type": "stream",
     "text": [
      "La probabilidad de que la calificación exceda de 84 sabiendo que es mayor a 72 es de:  18.86 %\n"
     ]
    }
   ],
   "source": [
    "prob_1 = 0.8413\n",
    "z = z_score(78,36,84)\n",
    "probabilidad = sc.stats.norm.cdf(z)\n",
    "prob_2 = 1-probabilidad\n",
    "rest = prob_2 / prob_1\n",
    "\n",
    "print('La probabilidad de que la calificación exceda de 84 sabiendo que es mayor a 72 es de: ', round(rest*100,2), '%')"
   ]
  },
  {
   "cell_type": "markdown",
   "metadata": {},
   "source": [
    "# 4. Cadenas de Markov"
   ]
  }
 ],
 "metadata": {
  "kernelspec": {
   "display_name": "Python 3",
   "language": "python",
   "name": "python3"
  },
  "language_info": {
   "codemirror_mode": {
    "name": "ipython",
    "version": 3
   },
   "file_extension": ".py",
   "mimetype": "text/x-python",
   "name": "python",
   "nbconvert_exporter": "python",
   "pygments_lexer": "ipython3",
   "version": "3.11.5"
  }
 },
 "nbformat": 4,
 "nbformat_minor": 2
}
